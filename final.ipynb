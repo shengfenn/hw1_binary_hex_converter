{
 "cells": [
  {
   "cell_type": "code",
   "execution_count": 1,
   "id": "5eb4c989-6866-4520-89f4-78ce12cde99d",
   "metadata": {},
   "outputs": [
    {
     "name": "stdin",
     "output_type": "stream",
     "text": [
      "輸入0-255之間的任意整數:  255\n"
     ]
    },
    {
     "name": "stdout",
     "output_type": "stream",
     "text": [
      "2進位數字: 11111111\n",
      "16進位數字: FF\n"
     ]
    }
   ],
   "source": [
    "# 輸入10進位數字\n",
    "decimal_number = input(\"輸入0-255之間的任意整數: \")\n",
    "try:\n",
    "    a = int(decimal_number)\n",
    "\n",
    "    # 檢查是否在0-255之間\n",
    "    if a < 0 or a > 255:\n",
    "        print(\"請輸入範圍內的整數（0-255）\")\n",
    "    else:\n",
    "        # 設定8個位置的值都是0的2進位list，由左而右分別代表2**7、2**6...2**0\n",
    "        binary_converter_list = ['0', '0', '0', '0', '0', '0', '0', '0']\n",
    "\n",
    "        # 將輸入的數字轉變成2的次方相加的形式，並在可寫成2**n*1之位置n以1替代0\n",
    "        for n in range(7, -1, -1):\n",
    "            if 2**n <= a:\n",
    "                binary_converter_list[n] = '1'\n",
    "                a = a - 2**n\n",
    "\n",
    "        # 輸出轉換成2進位數字的結果\n",
    "        binary_converter = ''.join(binary_converter_list[::-1])\n",
    "        print(\"2進位數字:\", int(binary_converter))\n",
    "        \n",
    "        #設定兩個位置的值為0的16進位list\n",
    "        c = ['0','0']\n",
    "\n",
    "        #將2進位轉換後的結果拿過來\n",
    "        d = ''.join(binary_converter_list[::-1])\n",
    "\n",
    "        #分別計算c[0]和c[1]的值，且轉換10-15為A-F\n",
    "        for i in range(2):\n",
    "            c[i] = str(int(d[4*i])*8 + int(d[4*i+1])*4 + int(d[4*i+2])*2 + int(d[4*i+3]))\n",
    "            if c[i] == '10' :\n",
    "                c[i] = 'A'\n",
    "            elif c[i] == '11' :\n",
    "                c[i] = 'B'\n",
    "            elif c[i] == '12' :\n",
    "                c[i] = 'C'\n",
    "            elif c[i] == '13' :\n",
    "                c[i] = 'D'\n",
    "            elif c[i] == '14' :\n",
    "                c[i] = 'E'\n",
    "            elif c[i] == '15' :\n",
    "                c[i] = 'F'\n",
    "            elif c[i] == '0' :\n",
    "                c[i] = '0'\n",
    "        if c[0] == '0' :\n",
    "            c.pop(0)\n",
    "        #輸出轉換成16進位的結果\n",
    "        hexadecimal_converter = ''.join(c)\n",
    "        print(\"16進位數字:\", hexadecimal_converter)\n",
    "except:\n",
    "    print(\"無法運算，請輸入整數\")"
   ]
  },
  {
   "cell_type": "code",
   "execution_count": null,
   "id": "fb6be986-254a-4470-b78d-718deb19fe6d",
   "metadata": {},
   "outputs": [],
   "source": []
  }
 ],
 "metadata": {
  "kernelspec": {
   "display_name": "Python [conda env:base] *",
   "language": "python",
   "name": "conda-base-py"
  },
  "language_info": {
   "codemirror_mode": {
    "name": "ipython",
    "version": 3
   },
   "file_extension": ".py",
   "mimetype": "text/x-python",
   "name": "python",
   "nbconvert_exporter": "python",
   "pygments_lexer": "ipython3",
   "version": "3.12.7"
  }
 },
 "nbformat": 4,
 "nbformat_minor": 5
}
